{
 "cells": [
  {
   "cell_type": "markdown",
   "metadata": {},
   "source": [
    "# conditional statements"
   ]
  },
  {
   "cell_type": "code",
   "execution_count": 1,
   "metadata": {},
   "outputs": [
    {
     "name": "stdout",
     "output_type": "stream",
     "text": [
      "Data Science\n"
     ]
    }
   ],
   "source": [
    "if True: # indentiation is always 4 spaces\n",
    "    print('Data Science') "
   ]
  },
  {
   "cell_type": "code",
   "execution_count": 2,
   "metadata": {},
   "outputs": [
    {
     "name": "stdout",
     "output_type": "stream",
     "text": [
      "bye for now\n"
     ]
    }
   ],
   "source": [
    "if False:\n",
    "    print('Data Science')\n",
    "print('bye for now')"
   ]
  },
  {
   "cell_type": "code",
   "execution_count": 3,
   "metadata": {},
   "outputs": [
    {
     "name": "stdout",
     "output_type": "stream",
     "text": [
      "Data Science\n",
      "bye for now\n"
     ]
    }
   ],
   "source": [
    "if True:\n",
    "    print('Data Science')\n",
    "print('bye for now')"
   ]
  },
  {
   "cell_type": "code",
   "execution_count": 4,
   "metadata": {},
   "outputs": [
    {
     "name": "stdout",
     "output_type": "stream",
     "text": [
      "Even number\n"
     ]
    }
   ],
   "source": [
    "x = 4\n",
    "r = x % 2 \n",
    "\n",
    "if r == 0:\n",
    "    print('Even number')"
   ]
  },
  {
   "cell_type": "code",
   "execution_count": 5,
   "metadata": {},
   "outputs": [],
   "source": [
    "#code-1 : number is even or odd \n",
    "x = 5\n",
    "r = x % 2 \n",
    "\n",
    "if r == 0:\n",
    "    print('Even number')"
   ]
  },
  {
   "cell_type": "code",
   "execution_count": 6,
   "metadata": {},
   "outputs": [
    {
     "name": "stdout",
     "output_type": "stream",
     "text": [
      "odd number\n"
     ]
    }
   ],
   "source": [
    "x = 5\n",
    "r = x % 2 \n",
    "\n",
    "if r == 0:\n",
    "    print('Even number')\n",
    "print('odd number')"
   ]
  },
  {
   "cell_type": "code",
   "execution_count": 7,
   "metadata": {},
   "outputs": [
    {
     "name": "stdout",
     "output_type": "stream",
     "text": [
      "Even number\n",
      "odd number\n"
     ]
    }
   ],
   "source": [
    "x = 8\n",
    "r = x % 2 \n",
    "\n",
    "if r == 0:\n",
    "    print('Even number')\n",
    "print('odd number')"
   ]
  },
  {
   "cell_type": "markdown",
   "metadata": {},
   "source": [
    "# check if the number is even or odd"
   ]
  },
  {
   "cell_type": "code",
   "execution_count": 1,
   "metadata": {},
   "outputs": [
    {
     "name": "stdout",
     "output_type": "stream",
     "text": [
      "the number is odd\n"
     ]
    }
   ],
   "source": [
    "num = int(input(\"enter the number\"))\n",
    "if num%2==0:\n",
    "    print(\"the number is even\")\n",
    "else:\n",
    "    print(\"the number is odd\")"
   ]
  },
  {
   "cell_type": "markdown",
   "metadata": {},
   "source": [
    "# Check if a person is eligible to vote (age 18 or above)"
   ]
  },
  {
   "cell_type": "code",
   "execution_count": 2,
   "metadata": {},
   "outputs": [
    {
     "name": "stdout",
     "output_type": "stream",
     "text": [
      "the person is eligible to vote\n"
     ]
    }
   ],
   "source": [
    "age = int(input(\"enter the age\"))\n",
    "if age >=18:\n",
    "    print(\"the person is eligible to vote\")\n",
    "else:\n",
    "    print(\"the person is not eligble for vote\")\n"
   ]
  },
  {
   "cell_type": "markdown",
   "metadata": {},
   "source": [
    "# Determine if a given year is a leap year or not"
   ]
  },
  {
   "cell_type": "code",
   "execution_count": 3,
   "metadata": {},
   "outputs": [
    {
     "name": "stdout",
     "output_type": "stream",
     "text": [
      "its not leap year\n"
     ]
    }
   ],
   "source": [
    "year =int(input(\"enter a year\"))\n",
    "if (year%4 ==0 & year%100 !=0) or (year%400==0) :\n",
    "    print(\"its leap year\")\n",
    "else:\n",
    "    print(\"its not leap year\")"
   ]
  },
  {
   "cell_type": "markdown",
   "metadata": {},
   "source": [
    "# Check if a number is positive, negative, or zero"
   ]
  },
  {
   "cell_type": "code",
   "execution_count": 1,
   "metadata": {},
   "outputs": [
    {
     "name": "stdout",
     "output_type": "stream",
     "text": [
      "negative\n"
     ]
    }
   ],
   "source": [
    "num = int(input(\"enter the number: \"))\n",
    "if num >0:\n",
    "    print(\"positive\")\n",
    "elif num<0:\n",
    "    print(\"negative\")\n",
    "else:\n",
    "    print(\"zero\")"
   ]
  },
  {
   "cell_type": "markdown",
   "metadata": {},
   "source": [
    "# Write a program to find the greatest of two numbers"
   ]
  },
  {
   "cell_type": "code",
   "execution_count": 2,
   "metadata": {},
   "outputs": [
    {
     "name": "stdout",
     "output_type": "stream",
     "text": [
      "a is equal to b\n"
     ]
    }
   ],
   "source": [
    "a= int(input(\"Enter first number \"))\n",
    "b= int(input(\"Enter second number \"))\n",
    "if a>b:\n",
    "    print(\"a is greater than b\")\n",
    "elif a<b:\n",
    "    print(\"a is smaller than b\")\n",
    "else:\n",
    "    print(\"a is equal to b\")"
   ]
  },
  {
   "cell_type": "markdown",
   "metadata": {},
   "source": [
    "# Determine if a number is a multiple of 5"
   ]
  },
  {
   "cell_type": "code",
   "execution_count": 3,
   "metadata": {},
   "outputs": [
    {
     "name": "stdout",
     "output_type": "stream",
     "text": [
      "multiple of 5\n"
     ]
    }
   ],
   "source": [
    "num = int(input(\"enter the number\"))\n",
    "if num%5==0:\n",
    "    print(\"multiple of 5\")\n",
    "else:\n",
    "    print('not the multiple of 5')"
   ]
  },
  {
   "cell_type": "markdown",
   "metadata": {},
   "source": [
    "#  Check if a character is a vowel or consonant"
   ]
  },
  {
   "cell_type": "code",
   "execution_count": 4,
   "metadata": {},
   "outputs": [
    {
     "name": "stdout",
     "output_type": "stream",
     "text": [
      "vowel\n"
     ]
    }
   ],
   "source": [
    "char =input(\"enter the character \").lower()\n",
    "if char in 'aeiou':\n",
    "    print(\"vowel\")\n",
    "else:\n",
    "    print(\"constant\")\n"
   ]
  },
  {
   "cell_type": "markdown",
   "metadata": {},
   "source": [
    "# Determine if a person is eligible for a senior citizen discount (age 60+)"
   ]
  },
  {
   "cell_type": "code",
   "execution_count": 5,
   "metadata": {},
   "outputs": [
    {
     "name": "stdout",
     "output_type": "stream",
     "text": [
      "not eligible for senior citizen\n"
     ]
    }
   ],
   "source": [
    "age = int(input(\"enter the age \"))\n",
    "if age >=60:\n",
    "    print(\"eligible for senior citizen\")\n",
    "else:\n",
    "    print(\"not eligible for senior citizen\")"
   ]
  },
  {
   "cell_type": "markdown",
   "metadata": {},
   "source": [
    "# Check if a number is a single-digit number"
   ]
  },
  {
   "cell_type": "code",
   "execution_count": 6,
   "metadata": {},
   "outputs": [
    {
     "name": "stdout",
     "output_type": "stream",
     "text": [
      "not a single digit \n"
     ]
    }
   ],
   "source": [
    "num = int(input(\"enter the number \"))\n",
    "if 0<= num <10:\n",
    "    print(\"the number is single digit\")\n",
    "else:\n",
    "    print(\"not a single digit \")"
   ]
  },
  {
   "cell_type": "markdown",
   "metadata": {},
   "source": [
    "# Print \"Good Morning\" if the time is before 12 PM, otherwise print \"Good Afternoon\""
   ]
  },
  {
   "cell_type": "code",
   "execution_count": 7,
   "metadata": {},
   "outputs": [
    {
     "name": "stdout",
     "output_type": "stream",
     "text": [
      "Good night\n"
     ]
    }
   ],
   "source": [
    "hour = int(input(\"enter the hour in 24 format \"))\n",
    "if hour <12:\n",
    "    print(\"Good Morning\")\n",
    "elif 12<hour<16:\n",
    "    print(\"Good afternoon\")\n",
    "elif 16<hour<20:\n",
    "    print(\"Good evening\")\n",
    "else:\n",
    "    print(\"Good night\")"
   ]
  },
  {
   "cell_type": "markdown",
   "metadata": {},
   "source": [
    "# Check if a string is empty or not"
   ]
  },
  {
   "cell_type": "code",
   "execution_count": 8,
   "metadata": {},
   "outputs": [
    {
     "name": "stdout",
     "output_type": "stream",
     "text": [
      "string not empty \n"
     ]
    }
   ],
   "source": [
    "s =input(\"Enter a string \")\n",
    "if not s:\n",
    "    print(\"string is empty \")\n",
    "else:\n",
    "    print(\"string not empty \")"
   ]
  },
  {
   "cell_type": "markdown",
   "metadata": {},
   "source": [
    "# Verify if a number is a perfect square"
   ]
  },
  {
   "cell_type": "code",
   "execution_count": 9,
   "metadata": {},
   "outputs": [
    {
     "name": "stdout",
     "output_type": "stream",
     "text": [
      "perfect square \n"
     ]
    }
   ],
   "source": [
    "import math\n",
    "num = int(input(\"enter a number \"))\n",
    "if math.sqrt(num)**2==num:\n",
    "    print(\"perfect square \")\n",
    "else:\n",
    "    print(\"not a perfect square \")"
   ]
  },
  {
   "cell_type": "markdown",
   "metadata": {},
   "source": [
    "# Determine if a number is between 1 and 100"
   ]
  },
  {
   "cell_type": "code",
   "execution_count": 10,
   "metadata": {},
   "outputs": [
    {
     "name": "stdout",
     "output_type": "stream",
     "text": [
      "Within range\n"
     ]
    }
   ],
   "source": [
    "num = int(input(\"Enter a number: \"))\n",
    "if 1 <= num <= 100:\n",
    " print(\"Within range\")\n",
    "else:\n",
    " print(\"Out of range\") "
   ]
  },
  {
   "cell_type": "markdown",
   "metadata": {},
   "source": [
    "# Print \"Weekend\" if the day is Saturday or Sunday; otherwise, print \"Weekday\""
   ]
  },
  {
   "cell_type": "code",
   "execution_count": 11,
   "metadata": {},
   "outputs": [
    {
     "name": "stdout",
     "output_type": "stream",
     "text": [
      "its not weekend\n"
     ]
    }
   ],
   "source": [
    "day = input(\"enter the day \").lower()\n",
    "if day ==('saturday','sunday'):\n",
    "    print(\"its weekend\")\n",
    "else:\n",
    "    print(\"its not weekend\")"
   ]
  }
 ],
 "metadata": {
  "kernelspec": {
   "display_name": "Python 3",
   "language": "python",
   "name": "python3"
  },
  "language_info": {
   "codemirror_mode": {
    "name": "ipython",
    "version": 3
   },
   "file_extension": ".py",
   "mimetype": "text/x-python",
   "name": "python",
   "nbconvert_exporter": "python",
   "pygments_lexer": "ipython3",
   "version": "3.12.1"
  }
 },
 "nbformat": 4,
 "nbformat_minor": 2
}
